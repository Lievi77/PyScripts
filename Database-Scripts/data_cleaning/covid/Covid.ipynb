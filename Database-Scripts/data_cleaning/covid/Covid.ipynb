{
 "cells": [
  {
   "cell_type": "code",
   "execution_count": 1,
   "metadata": {},
   "outputs": [],
   "source": [
    "import pandas as pd\n",
    "import numpy as np\n",
    "import seaborn as sns\n",
    "import matplotlib.pyplot as plt\n",
    "from datetime import datetime\n",
    "import warnings\n",
    "warnings.filterwarnings(\"ignore\")"
   ]
  },
  {
   "cell_type": "code",
   "execution_count": 2,
   "metadata": {},
   "outputs": [],
   "source": [
    "df = pd.read_csv('conposcovidloc.csv')"
   ]
  },
  {
   "cell_type": "code",
   "execution_count": 3,
   "metadata": {},
   "outputs": [
    {
     "output_type": "stream",
     "name": "stdout",
     "text": [
      "<class 'pandas.core.frame.DataFrame'>\nRangeIndex: 330573 entries, 0 to 330572\nData columns (total 18 columns):\n #   Column                     Non-Null Count   Dtype  \n---  ------                     --------------   -----  \n 0   Row_ID                     330573 non-null  int64  \n 1   Accurate_Episode_Date      330573 non-null  object \n 2   Case_Reported_Date         330573 non-null  object \n 3   Test_Reported_Date         319034 non-null  object \n 4   Specimen_Date              328631 non-null  object \n 5   Age_Group                  330573 non-null  object \n 6   Client_Gender              330573 non-null  object \n 7   Case_AcquisitionInfo       330573 non-null  object \n 8   Outcome1                   330573 non-null  object \n 9   Outbreak_Related           72361 non-null   object \n 10  Reporting_PHU_ID           330573 non-null  int64  \n 11  Reporting_PHU              330573 non-null  object \n 12  Reporting_PHU_Address      330573 non-null  object \n 13  Reporting_PHU_City         330573 non-null  object \n 14  Reporting_PHU_Postal_Code  330573 non-null  object \n 15  Reporting_PHU_Website      330573 non-null  object \n 16  Reporting_PHU_Latitude     330573 non-null  float64\n 17  Reporting_PHU_Longitude    330573 non-null  float64\ndtypes: float64(2), int64(2), object(14)\nmemory usage: 45.4+ MB\n"
     ]
    }
   ],
   "source": [
    "df.info()"
   ]
  },
  {
   "cell_type": "code",
   "execution_count": 4,
   "metadata": {},
   "outputs": [
    {
     "output_type": "execute_result",
     "data": {
      "text/plain": [
       "   Row_ID Accurate_Episode_Date Case_Reported_Date Test_Reported_Date  \\\n",
       "0       1            2020-04-10         2020-04-18         2020-04-18   \n",
       "1       2            2020-04-12         2020-04-13         2020-04-13   \n",
       "2       3            2020-04-27         2020-05-01         2020-04-28   \n",
       "3       4            2020-04-14         2020-04-16         2020-04-16   \n",
       "4       5            2020-04-13         2020-04-18         2020-04-18   \n",
       "\n",
       "  Specimen_Date Age_Group Client_Gender Case_AcquisitionInfo  Outcome1  \\\n",
       "0    2020-04-17       80s        FEMALE    NO KNOWN EPI LINK  Resolved   \n",
       "1    2020-04-12       70s          MALE                   OB     Fatal   \n",
       "2    2020-04-27       70s          MALE                   OB  Resolved   \n",
       "3    2020-04-13       90+          MALE                   OB     Fatal   \n",
       "4    2020-04-15       70s          MALE                   OB     Fatal   \n",
       "\n",
       "  Outbreak_Related  Reporting_PHU_ID                    Reporting_PHU  \\\n",
       "0              NaN              2236  Halton Region Health Department   \n",
       "1              Yes              2253               Peel Public Health   \n",
       "2              Yes              2253               Peel Public Health   \n",
       "3              Yes              2253               Peel Public Health   \n",
       "4              Yes              2253               Peel Public Health   \n",
       "\n",
       "    Reporting_PHU_Address Reporting_PHU_City Reporting_PHU_Postal_Code  \\\n",
       "0        1151 Bronte Road           Oakville                   L6M 3Ll   \n",
       "1  7120 Hurontario Street        Mississauga                   L5W 1N4   \n",
       "2  7120 Hurontario Street        Mississauga                   L5W 1N4   \n",
       "3  7120 Hurontario Street        Mississauga                   L5W 1N4   \n",
       "4  7120 Hurontario Street        Mississauga                   L5W 1N4   \n",
       "\n",
       "                         Reporting_PHU_Website  Reporting_PHU_Latitude  \\\n",
       "0  www.halton.ca/For-Residents/Public-Health/                43.413997   \n",
       "1                    www.peelregion.ca/health/               43.647471   \n",
       "2                    www.peelregion.ca/health/               43.647471   \n",
       "3                    www.peelregion.ca/health/               43.647471   \n",
       "4                    www.peelregion.ca/health/               43.647471   \n",
       "\n",
       "   Reporting_PHU_Longitude  \n",
       "0               -79.744796  \n",
       "1               -79.708893  \n",
       "2               -79.708893  \n",
       "3               -79.708893  \n",
       "4               -79.708893  "
      ],
      "text/html": "<div>\n<style scoped>\n    .dataframe tbody tr th:only-of-type {\n        vertical-align: middle;\n    }\n\n    .dataframe tbody tr th {\n        vertical-align: top;\n    }\n\n    .dataframe thead th {\n        text-align: right;\n    }\n</style>\n<table border=\"1\" class=\"dataframe\">\n  <thead>\n    <tr style=\"text-align: right;\">\n      <th></th>\n      <th>Row_ID</th>\n      <th>Accurate_Episode_Date</th>\n      <th>Case_Reported_Date</th>\n      <th>Test_Reported_Date</th>\n      <th>Specimen_Date</th>\n      <th>Age_Group</th>\n      <th>Client_Gender</th>\n      <th>Case_AcquisitionInfo</th>\n      <th>Outcome1</th>\n      <th>Outbreak_Related</th>\n      <th>Reporting_PHU_ID</th>\n      <th>Reporting_PHU</th>\n      <th>Reporting_PHU_Address</th>\n      <th>Reporting_PHU_City</th>\n      <th>Reporting_PHU_Postal_Code</th>\n      <th>Reporting_PHU_Website</th>\n      <th>Reporting_PHU_Latitude</th>\n      <th>Reporting_PHU_Longitude</th>\n    </tr>\n  </thead>\n  <tbody>\n    <tr>\n      <th>0</th>\n      <td>1</td>\n      <td>2020-04-10</td>\n      <td>2020-04-18</td>\n      <td>2020-04-18</td>\n      <td>2020-04-17</td>\n      <td>80s</td>\n      <td>FEMALE</td>\n      <td>NO KNOWN EPI LINK</td>\n      <td>Resolved</td>\n      <td>NaN</td>\n      <td>2236</td>\n      <td>Halton Region Health Department</td>\n      <td>1151 Bronte Road</td>\n      <td>Oakville</td>\n      <td>L6M 3Ll</td>\n      <td>www.halton.ca/For-Residents/Public-Health/</td>\n      <td>43.413997</td>\n      <td>-79.744796</td>\n    </tr>\n    <tr>\n      <th>1</th>\n      <td>2</td>\n      <td>2020-04-12</td>\n      <td>2020-04-13</td>\n      <td>2020-04-13</td>\n      <td>2020-04-12</td>\n      <td>70s</td>\n      <td>MALE</td>\n      <td>OB</td>\n      <td>Fatal</td>\n      <td>Yes</td>\n      <td>2253</td>\n      <td>Peel Public Health</td>\n      <td>7120 Hurontario Street</td>\n      <td>Mississauga</td>\n      <td>L5W 1N4</td>\n      <td>www.peelregion.ca/health/</td>\n      <td>43.647471</td>\n      <td>-79.708893</td>\n    </tr>\n    <tr>\n      <th>2</th>\n      <td>3</td>\n      <td>2020-04-27</td>\n      <td>2020-05-01</td>\n      <td>2020-04-28</td>\n      <td>2020-04-27</td>\n      <td>70s</td>\n      <td>MALE</td>\n      <td>OB</td>\n      <td>Resolved</td>\n      <td>Yes</td>\n      <td>2253</td>\n      <td>Peel Public Health</td>\n      <td>7120 Hurontario Street</td>\n      <td>Mississauga</td>\n      <td>L5W 1N4</td>\n      <td>www.peelregion.ca/health/</td>\n      <td>43.647471</td>\n      <td>-79.708893</td>\n    </tr>\n    <tr>\n      <th>3</th>\n      <td>4</td>\n      <td>2020-04-14</td>\n      <td>2020-04-16</td>\n      <td>2020-04-16</td>\n      <td>2020-04-13</td>\n      <td>90+</td>\n      <td>MALE</td>\n      <td>OB</td>\n      <td>Fatal</td>\n      <td>Yes</td>\n      <td>2253</td>\n      <td>Peel Public Health</td>\n      <td>7120 Hurontario Street</td>\n      <td>Mississauga</td>\n      <td>L5W 1N4</td>\n      <td>www.peelregion.ca/health/</td>\n      <td>43.647471</td>\n      <td>-79.708893</td>\n    </tr>\n    <tr>\n      <th>4</th>\n      <td>5</td>\n      <td>2020-04-13</td>\n      <td>2020-04-18</td>\n      <td>2020-04-18</td>\n      <td>2020-04-15</td>\n      <td>70s</td>\n      <td>MALE</td>\n      <td>OB</td>\n      <td>Fatal</td>\n      <td>Yes</td>\n      <td>2253</td>\n      <td>Peel Public Health</td>\n      <td>7120 Hurontario Street</td>\n      <td>Mississauga</td>\n      <td>L5W 1N4</td>\n      <td>www.peelregion.ca/health/</td>\n      <td>43.647471</td>\n      <td>-79.708893</td>\n    </tr>\n  </tbody>\n</table>\n</div>"
     },
     "metadata": {},
     "execution_count": 4
    }
   ],
   "source": [
    "df.head()"
   ]
  },
  {
   "cell_type": "code",
   "execution_count": 5,
   "metadata": {},
   "outputs": [
    {
     "output_type": "execute_result",
     "data": {
      "text/plain": [
       "Index(['Row_ID', 'Accurate_Episode_Date', 'Case_Reported_Date',\n",
       "       'Test_Reported_Date', 'Specimen_Date', 'Age_Group', 'Client_Gender',\n",
       "       'Case_AcquisitionInfo', 'Outcome1', 'Outbreak_Related',\n",
       "       'Reporting_PHU_ID', 'Reporting_PHU', 'Reporting_PHU_Address',\n",
       "       'Reporting_PHU_City', 'Reporting_PHU_Postal_Code',\n",
       "       'Reporting_PHU_Website', 'Reporting_PHU_Latitude',\n",
       "       'Reporting_PHU_Longitude'],\n",
       "      dtype='object')"
      ]
     },
     "metadata": {},
     "execution_count": 5
    }
   ],
   "source": [
    "df.columns"
   ]
  },
  {
   "cell_type": "code",
   "execution_count": 6,
   "metadata": {},
   "outputs": [
    {
     "output_type": "execute_result",
     "data": {
      "text/plain": [
       "(330573, 18)"
      ]
     },
     "metadata": {},
     "execution_count": 6
    }
   ],
   "source": [
    "df.shape"
   ]
  },
  {
   "cell_type": "code",
   "execution_count": 7,
   "metadata": {},
   "outputs": [],
   "source": [
    "df['Outbreak_Related'].fillna('No', inplace = True)\n",
    "df.dropna(inplace=True)"
   ]
  },
  {
   "cell_type": "code",
   "execution_count": 8,
   "metadata": {},
   "outputs": [
    {
     "output_type": "stream",
     "name": "stdout",
     "text": [
      "Row_ID\n0\nAccurate_Episode_Date\n0\nCase_Reported_Date\n0\nTest_Reported_Date\n0\nSpecimen_Date\n0\nAge_Group\n0\nClient_Gender\n0\nCase_AcquisitionInfo\n0\nOutcome1\n0\nOutbreak_Related\n0\nReporting_PHU_ID\n0\nReporting_PHU\n0\nReporting_PHU_Address\n0\nReporting_PHU_City\n0\nReporting_PHU_Postal_Code\n0\nReporting_PHU_Website\n0\nReporting_PHU_Latitude\n0\nReporting_PHU_Longitude\n0\n"
     ]
    }
   ],
   "source": [
    "for i in df.columns:\n",
    "    print(i)\n",
    "    print(df[i].isnull().sum())"
   ]
  },
  {
   "cell_type": "code",
   "execution_count": 9,
   "metadata": {},
   "outputs": [
    {
     "output_type": "execute_result",
     "data": {
      "text/plain": [
       "   Row_ID Accurate_Episode_Date Case_Reported_Date Test_Reported_Date  \\\n",
       "0       1            2020-04-10         2020-04-18         2020-04-18   \n",
       "1       2            2020-04-12         2020-04-13         2020-04-13   \n",
       "2       3            2020-04-27         2020-05-01         2020-04-28   \n",
       "3       4            2020-04-14         2020-04-16         2020-04-16   \n",
       "4       5            2020-04-13         2020-04-18         2020-04-18   \n",
       "\n",
       "  Specimen_Date Age_Group Client_Gender Case_AcquisitionInfo  Outcome1  \\\n",
       "0    2020-04-17       80s        FEMALE    NO KNOWN EPI LINK  Resolved   \n",
       "1    2020-04-12       70s          MALE                   OB     Fatal   \n",
       "2    2020-04-27       70s          MALE                   OB  Resolved   \n",
       "3    2020-04-13       90+          MALE                   OB     Fatal   \n",
       "4    2020-04-15       70s          MALE                   OB     Fatal   \n",
       "\n",
       "  Outbreak_Related  Reporting_PHU_ID                    Reporting_PHU  \\\n",
       "0               No              2236  Halton Region Health Department   \n",
       "1              Yes              2253               Peel Public Health   \n",
       "2              Yes              2253               Peel Public Health   \n",
       "3              Yes              2253               Peel Public Health   \n",
       "4              Yes              2253               Peel Public Health   \n",
       "\n",
       "    Reporting_PHU_Address Reporting_PHU_City Reporting_PHU_Postal_Code  \\\n",
       "0        1151 Bronte Road           Oakville                   L6M 3Ll   \n",
       "1  7120 Hurontario Street        Mississauga                   L5W 1N4   \n",
       "2  7120 Hurontario Street        Mississauga                   L5W 1N4   \n",
       "3  7120 Hurontario Street        Mississauga                   L5W 1N4   \n",
       "4  7120 Hurontario Street        Mississauga                   L5W 1N4   \n",
       "\n",
       "                         Reporting_PHU_Website  Reporting_PHU_Latitude  \\\n",
       "0  www.halton.ca/For-Residents/Public-Health/                43.413997   \n",
       "1                    www.peelregion.ca/health/               43.647471   \n",
       "2                    www.peelregion.ca/health/               43.647471   \n",
       "3                    www.peelregion.ca/health/               43.647471   \n",
       "4                    www.peelregion.ca/health/               43.647471   \n",
       "\n",
       "   Reporting_PHU_Longitude  \n",
       "0               -79.744796  \n",
       "1               -79.708893  \n",
       "2               -79.708893  \n",
       "3               -79.708893  \n",
       "4               -79.708893  "
      ],
      "text/html": "<div>\n<style scoped>\n    .dataframe tbody tr th:only-of-type {\n        vertical-align: middle;\n    }\n\n    .dataframe tbody tr th {\n        vertical-align: top;\n    }\n\n    .dataframe thead th {\n        text-align: right;\n    }\n</style>\n<table border=\"1\" class=\"dataframe\">\n  <thead>\n    <tr style=\"text-align: right;\">\n      <th></th>\n      <th>Row_ID</th>\n      <th>Accurate_Episode_Date</th>\n      <th>Case_Reported_Date</th>\n      <th>Test_Reported_Date</th>\n      <th>Specimen_Date</th>\n      <th>Age_Group</th>\n      <th>Client_Gender</th>\n      <th>Case_AcquisitionInfo</th>\n      <th>Outcome1</th>\n      <th>Outbreak_Related</th>\n      <th>Reporting_PHU_ID</th>\n      <th>Reporting_PHU</th>\n      <th>Reporting_PHU_Address</th>\n      <th>Reporting_PHU_City</th>\n      <th>Reporting_PHU_Postal_Code</th>\n      <th>Reporting_PHU_Website</th>\n      <th>Reporting_PHU_Latitude</th>\n      <th>Reporting_PHU_Longitude</th>\n    </tr>\n  </thead>\n  <tbody>\n    <tr>\n      <th>0</th>\n      <td>1</td>\n      <td>2020-04-10</td>\n      <td>2020-04-18</td>\n      <td>2020-04-18</td>\n      <td>2020-04-17</td>\n      <td>80s</td>\n      <td>FEMALE</td>\n      <td>NO KNOWN EPI LINK</td>\n      <td>Resolved</td>\n      <td>No</td>\n      <td>2236</td>\n      <td>Halton Region Health Department</td>\n      <td>1151 Bronte Road</td>\n      <td>Oakville</td>\n      <td>L6M 3Ll</td>\n      <td>www.halton.ca/For-Residents/Public-Health/</td>\n      <td>43.413997</td>\n      <td>-79.744796</td>\n    </tr>\n    <tr>\n      <th>1</th>\n      <td>2</td>\n      <td>2020-04-12</td>\n      <td>2020-04-13</td>\n      <td>2020-04-13</td>\n      <td>2020-04-12</td>\n      <td>70s</td>\n      <td>MALE</td>\n      <td>OB</td>\n      <td>Fatal</td>\n      <td>Yes</td>\n      <td>2253</td>\n      <td>Peel Public Health</td>\n      <td>7120 Hurontario Street</td>\n      <td>Mississauga</td>\n      <td>L5W 1N4</td>\n      <td>www.peelregion.ca/health/</td>\n      <td>43.647471</td>\n      <td>-79.708893</td>\n    </tr>\n    <tr>\n      <th>2</th>\n      <td>3</td>\n      <td>2020-04-27</td>\n      <td>2020-05-01</td>\n      <td>2020-04-28</td>\n      <td>2020-04-27</td>\n      <td>70s</td>\n      <td>MALE</td>\n      <td>OB</td>\n      <td>Resolved</td>\n      <td>Yes</td>\n      <td>2253</td>\n      <td>Peel Public Health</td>\n      <td>7120 Hurontario Street</td>\n      <td>Mississauga</td>\n      <td>L5W 1N4</td>\n      <td>www.peelregion.ca/health/</td>\n      <td>43.647471</td>\n      <td>-79.708893</td>\n    </tr>\n    <tr>\n      <th>3</th>\n      <td>4</td>\n      <td>2020-04-14</td>\n      <td>2020-04-16</td>\n      <td>2020-04-16</td>\n      <td>2020-04-13</td>\n      <td>90+</td>\n      <td>MALE</td>\n      <td>OB</td>\n      <td>Fatal</td>\n      <td>Yes</td>\n      <td>2253</td>\n      <td>Peel Public Health</td>\n      <td>7120 Hurontario Street</td>\n      <td>Mississauga</td>\n      <td>L5W 1N4</td>\n      <td>www.peelregion.ca/health/</td>\n      <td>43.647471</td>\n      <td>-79.708893</td>\n    </tr>\n    <tr>\n      <th>4</th>\n      <td>5</td>\n      <td>2020-04-13</td>\n      <td>2020-04-18</td>\n      <td>2020-04-18</td>\n      <td>2020-04-15</td>\n      <td>70s</td>\n      <td>MALE</td>\n      <td>OB</td>\n      <td>Fatal</td>\n      <td>Yes</td>\n      <td>2253</td>\n      <td>Peel Public Health</td>\n      <td>7120 Hurontario Street</td>\n      <td>Mississauga</td>\n      <td>L5W 1N4</td>\n      <td>www.peelregion.ca/health/</td>\n      <td>43.647471</td>\n      <td>-79.708893</td>\n    </tr>\n  </tbody>\n</table>\n</div>"
     },
     "metadata": {},
     "execution_count": 9
    }
   ],
   "source": [
    "df.head()"
   ]
  },
  {
   "cell_type": "code",
   "execution_count": 10,
   "metadata": {},
   "outputs": [
    {
     "output_type": "execute_result",
     "data": {
      "text/plain": [
       "        Row_ID Accurate_Episode_Date Case_Reported_Date Test_Reported_Date  \\\n",
       "0            1            2020-04-10         2020-04-18         2020-04-18   \n",
       "1            2            2020-04-12         2020-04-13         2020-04-13   \n",
       "2            3            2020-04-27         2020-05-01         2020-04-28   \n",
       "3            4            2020-04-14         2020-04-16         2020-04-16   \n",
       "4            5            2020-04-13         2020-04-18         2020-04-18   \n",
       "...        ...                   ...                ...                ...   \n",
       "330568  330569            2021-03-01         2021-03-04         2021-03-04   \n",
       "330569  330570            2021-03-10         2021-03-15         2021-03-15   \n",
       "330570  330571            2021-03-13         2021-03-15         2021-03-15   \n",
       "330571  330572            2021-03-12         2021-03-16         2021-03-16   \n",
       "330572  330573            2021-01-02         2021-01-07         2021-01-07   \n",
       "\n",
       "       Specimen_Date Age_Group Client_Gender Case_AcquisitionInfo  \\\n",
       "0         2020-04-17       80s        FEMALE    NO KNOWN EPI LINK   \n",
       "1         2020-04-12       70s          MALE                   OB   \n",
       "2         2020-04-27       70s          MALE                   OB   \n",
       "3         2020-04-13       90+          MALE                   OB   \n",
       "4         2020-04-15       70s          MALE                   OB   \n",
       "...              ...       ...           ...                  ...   \n",
       "330568    2021-03-03       40s        FEMALE    NO KNOWN EPI LINK   \n",
       "330569    2021-03-15       40s        FEMALE    NO KNOWN EPI LINK   \n",
       "330570    2021-03-13       30s          MALE  MISSING INFORMATION   \n",
       "330571    2021-03-14       <20        FEMALE                   CC   \n",
       "330572    2021-01-04       20s        FEMALE                   CC   \n",
       "\n",
       "       Outbreak_Related  Reporting_PHU_ID                       Reporting_PHU  \\\n",
       "0                    No              2236     Halton Region Health Department   \n",
       "1                   Yes              2253                  Peel Public Health   \n",
       "2                   Yes              2253                  Peel Public Health   \n",
       "3                   Yes              2253                  Peel Public Health   \n",
       "4                   Yes              2253                  Peel Public Health   \n",
       "...                 ...               ...                                 ...   \n",
       "330568               No              2270  York Region Public Health Services   \n",
       "330569               No              2253                  Peel Public Health   \n",
       "330570              Yes              2253                  Peel Public Health   \n",
       "330571               No              2230     Durham Region Health Department   \n",
       "330572               No              3895               Toronto Public Health   \n",
       "\n",
       "                 Reporting_PHU_Address Reporting_PHU_City  \\\n",
       "0                     1151 Bronte Road           Oakville   \n",
       "1               7120 Hurontario Street        Mississauga   \n",
       "2               7120 Hurontario Street        Mississauga   \n",
       "3               7120 Hurontario Street        Mississauga   \n",
       "4               7120 Hurontario Street        Mississauga   \n",
       "...                                ...                ...   \n",
       "330568              17250 Yonge Street          Newmarket   \n",
       "330569          7120 Hurontario Street        Mississauga   \n",
       "330570          7120 Hurontario Street        Mississauga   \n",
       "330571          605 Rossland Road East             Whitby   \n",
       "330572  277 Victoria Street, 5th Floor            Toronto   \n",
       "\n",
       "       Reporting_PHU_Postal_Code  \\\n",
       "0                        L6M 3Ll   \n",
       "1                        L5W 1N4   \n",
       "2                        L5W 1N4   \n",
       "3                        L5W 1N4   \n",
       "4                        L5W 1N4   \n",
       "...                          ...   \n",
       "330568                   L3Y 6Z1   \n",
       "330569                   L5W 1N4   \n",
       "330570                   L5W 1N4   \n",
       "330571                   L1N 0B2   \n",
       "330572                   M5B 1W2   \n",
       "\n",
       "                                    Reporting_PHU_Website  \\\n",
       "0             www.halton.ca/For-Residents/Public-Health/    \n",
       "1                               www.peelregion.ca/health/   \n",
       "2                               www.peelregion.ca/health/   \n",
       "3                               www.peelregion.ca/health/   \n",
       "4                               www.peelregion.ca/health/   \n",
       "...                                                   ...   \n",
       "330568           www.york.ca/wps/portal/yorkhome/health/    \n",
       "330569                          www.peelregion.ca/health/   \n",
       "330570                          www.peelregion.ca/health/   \n",
       "330571  www.durham.ca/en/health-and-wellness/health-an...   \n",
       "330572  www.toronto.ca/community-people/health-wellnes...   \n",
       "\n",
       "        Reporting_PHU_Latitude  Reporting_PHU_Longitude  Outcome1_Fatal  \\\n",
       "0                    43.413997               -79.744796               0   \n",
       "1                    43.647471               -79.708893               1   \n",
       "2                    43.647471               -79.708893               0   \n",
       "3                    43.647471               -79.708893               1   \n",
       "4                    43.647471               -79.708893               1   \n",
       "...                        ...                      ...             ...   \n",
       "330568               44.048023               -79.480239               0   \n",
       "330569               43.647471               -79.708893               0   \n",
       "330570               43.647471               -79.708893               0   \n",
       "330571               43.898605               -78.940341               0   \n",
       "330572               43.656591               -79.379358               0   \n",
       "\n",
       "        Outcome1_Not Resolved  Outcome1_Resolved  \n",
       "0                           0                  1  \n",
       "1                           0                  0  \n",
       "2                           0                  1  \n",
       "3                           0                  0  \n",
       "4                           0                  0  \n",
       "...                       ...                ...  \n",
       "330568                      0                  1  \n",
       "330569                      1                  0  \n",
       "330570                      1                  0  \n",
       "330571                      1                  0  \n",
       "330572                      0                  1  \n",
       "\n",
       "[318879 rows x 20 columns]"
      ],
      "text/html": "<div>\n<style scoped>\n    .dataframe tbody tr th:only-of-type {\n        vertical-align: middle;\n    }\n\n    .dataframe tbody tr th {\n        vertical-align: top;\n    }\n\n    .dataframe thead th {\n        text-align: right;\n    }\n</style>\n<table border=\"1\" class=\"dataframe\">\n  <thead>\n    <tr style=\"text-align: right;\">\n      <th></th>\n      <th>Row_ID</th>\n      <th>Accurate_Episode_Date</th>\n      <th>Case_Reported_Date</th>\n      <th>Test_Reported_Date</th>\n      <th>Specimen_Date</th>\n      <th>Age_Group</th>\n      <th>Client_Gender</th>\n      <th>Case_AcquisitionInfo</th>\n      <th>Outbreak_Related</th>\n      <th>Reporting_PHU_ID</th>\n      <th>Reporting_PHU</th>\n      <th>Reporting_PHU_Address</th>\n      <th>Reporting_PHU_City</th>\n      <th>Reporting_PHU_Postal_Code</th>\n      <th>Reporting_PHU_Website</th>\n      <th>Reporting_PHU_Latitude</th>\n      <th>Reporting_PHU_Longitude</th>\n      <th>Outcome1_Fatal</th>\n      <th>Outcome1_Not Resolved</th>\n      <th>Outcome1_Resolved</th>\n    </tr>\n  </thead>\n  <tbody>\n    <tr>\n      <th>0</th>\n      <td>1</td>\n      <td>2020-04-10</td>\n      <td>2020-04-18</td>\n      <td>2020-04-18</td>\n      <td>2020-04-17</td>\n      <td>80s</td>\n      <td>FEMALE</td>\n      <td>NO KNOWN EPI LINK</td>\n      <td>No</td>\n      <td>2236</td>\n      <td>Halton Region Health Department</td>\n      <td>1151 Bronte Road</td>\n      <td>Oakville</td>\n      <td>L6M 3Ll</td>\n      <td>www.halton.ca/For-Residents/Public-Health/</td>\n      <td>43.413997</td>\n      <td>-79.744796</td>\n      <td>0</td>\n      <td>0</td>\n      <td>1</td>\n    </tr>\n    <tr>\n      <th>1</th>\n      <td>2</td>\n      <td>2020-04-12</td>\n      <td>2020-04-13</td>\n      <td>2020-04-13</td>\n      <td>2020-04-12</td>\n      <td>70s</td>\n      <td>MALE</td>\n      <td>OB</td>\n      <td>Yes</td>\n      <td>2253</td>\n      <td>Peel Public Health</td>\n      <td>7120 Hurontario Street</td>\n      <td>Mississauga</td>\n      <td>L5W 1N4</td>\n      <td>www.peelregion.ca/health/</td>\n      <td>43.647471</td>\n      <td>-79.708893</td>\n      <td>1</td>\n      <td>0</td>\n      <td>0</td>\n    </tr>\n    <tr>\n      <th>2</th>\n      <td>3</td>\n      <td>2020-04-27</td>\n      <td>2020-05-01</td>\n      <td>2020-04-28</td>\n      <td>2020-04-27</td>\n      <td>70s</td>\n      <td>MALE</td>\n      <td>OB</td>\n      <td>Yes</td>\n      <td>2253</td>\n      <td>Peel Public Health</td>\n      <td>7120 Hurontario Street</td>\n      <td>Mississauga</td>\n      <td>L5W 1N4</td>\n      <td>www.peelregion.ca/health/</td>\n      <td>43.647471</td>\n      <td>-79.708893</td>\n      <td>0</td>\n      <td>0</td>\n      <td>1</td>\n    </tr>\n    <tr>\n      <th>3</th>\n      <td>4</td>\n      <td>2020-04-14</td>\n      <td>2020-04-16</td>\n      <td>2020-04-16</td>\n      <td>2020-04-13</td>\n      <td>90+</td>\n      <td>MALE</td>\n      <td>OB</td>\n      <td>Yes</td>\n      <td>2253</td>\n      <td>Peel Public Health</td>\n      <td>7120 Hurontario Street</td>\n      <td>Mississauga</td>\n      <td>L5W 1N4</td>\n      <td>www.peelregion.ca/health/</td>\n      <td>43.647471</td>\n      <td>-79.708893</td>\n      <td>1</td>\n      <td>0</td>\n      <td>0</td>\n    </tr>\n    <tr>\n      <th>4</th>\n      <td>5</td>\n      <td>2020-04-13</td>\n      <td>2020-04-18</td>\n      <td>2020-04-18</td>\n      <td>2020-04-15</td>\n      <td>70s</td>\n      <td>MALE</td>\n      <td>OB</td>\n      <td>Yes</td>\n      <td>2253</td>\n      <td>Peel Public Health</td>\n      <td>7120 Hurontario Street</td>\n      <td>Mississauga</td>\n      <td>L5W 1N4</td>\n      <td>www.peelregion.ca/health/</td>\n      <td>43.647471</td>\n      <td>-79.708893</td>\n      <td>1</td>\n      <td>0</td>\n      <td>0</td>\n    </tr>\n    <tr>\n      <th>...</th>\n      <td>...</td>\n      <td>...</td>\n      <td>...</td>\n      <td>...</td>\n      <td>...</td>\n      <td>...</td>\n      <td>...</td>\n      <td>...</td>\n      <td>...</td>\n      <td>...</td>\n      <td>...</td>\n      <td>...</td>\n      <td>...</td>\n      <td>...</td>\n      <td>...</td>\n      <td>...</td>\n      <td>...</td>\n      <td>...</td>\n      <td>...</td>\n      <td>...</td>\n    </tr>\n    <tr>\n      <th>330568</th>\n      <td>330569</td>\n      <td>2021-03-01</td>\n      <td>2021-03-04</td>\n      <td>2021-03-04</td>\n      <td>2021-03-03</td>\n      <td>40s</td>\n      <td>FEMALE</td>\n      <td>NO KNOWN EPI LINK</td>\n      <td>No</td>\n      <td>2270</td>\n      <td>York Region Public Health Services</td>\n      <td>17250 Yonge Street</td>\n      <td>Newmarket</td>\n      <td>L3Y 6Z1</td>\n      <td>www.york.ca/wps/portal/yorkhome/health/</td>\n      <td>44.048023</td>\n      <td>-79.480239</td>\n      <td>0</td>\n      <td>0</td>\n      <td>1</td>\n    </tr>\n    <tr>\n      <th>330569</th>\n      <td>330570</td>\n      <td>2021-03-10</td>\n      <td>2021-03-15</td>\n      <td>2021-03-15</td>\n      <td>2021-03-15</td>\n      <td>40s</td>\n      <td>FEMALE</td>\n      <td>NO KNOWN EPI LINK</td>\n      <td>No</td>\n      <td>2253</td>\n      <td>Peel Public Health</td>\n      <td>7120 Hurontario Street</td>\n      <td>Mississauga</td>\n      <td>L5W 1N4</td>\n      <td>www.peelregion.ca/health/</td>\n      <td>43.647471</td>\n      <td>-79.708893</td>\n      <td>0</td>\n      <td>1</td>\n      <td>0</td>\n    </tr>\n    <tr>\n      <th>330570</th>\n      <td>330571</td>\n      <td>2021-03-13</td>\n      <td>2021-03-15</td>\n      <td>2021-03-15</td>\n      <td>2021-03-13</td>\n      <td>30s</td>\n      <td>MALE</td>\n      <td>MISSING INFORMATION</td>\n      <td>Yes</td>\n      <td>2253</td>\n      <td>Peel Public Health</td>\n      <td>7120 Hurontario Street</td>\n      <td>Mississauga</td>\n      <td>L5W 1N4</td>\n      <td>www.peelregion.ca/health/</td>\n      <td>43.647471</td>\n      <td>-79.708893</td>\n      <td>0</td>\n      <td>1</td>\n      <td>0</td>\n    </tr>\n    <tr>\n      <th>330571</th>\n      <td>330572</td>\n      <td>2021-03-12</td>\n      <td>2021-03-16</td>\n      <td>2021-03-16</td>\n      <td>2021-03-14</td>\n      <td>&lt;20</td>\n      <td>FEMALE</td>\n      <td>CC</td>\n      <td>No</td>\n      <td>2230</td>\n      <td>Durham Region Health Department</td>\n      <td>605 Rossland Road East</td>\n      <td>Whitby</td>\n      <td>L1N 0B2</td>\n      <td>www.durham.ca/en/health-and-wellness/health-an...</td>\n      <td>43.898605</td>\n      <td>-78.940341</td>\n      <td>0</td>\n      <td>1</td>\n      <td>0</td>\n    </tr>\n    <tr>\n      <th>330572</th>\n      <td>330573</td>\n      <td>2021-01-02</td>\n      <td>2021-01-07</td>\n      <td>2021-01-07</td>\n      <td>2021-01-04</td>\n      <td>20s</td>\n      <td>FEMALE</td>\n      <td>CC</td>\n      <td>No</td>\n      <td>3895</td>\n      <td>Toronto Public Health</td>\n      <td>277 Victoria Street, 5th Floor</td>\n      <td>Toronto</td>\n      <td>M5B 1W2</td>\n      <td>www.toronto.ca/community-people/health-wellnes...</td>\n      <td>43.656591</td>\n      <td>-79.379358</td>\n      <td>0</td>\n      <td>0</td>\n      <td>1</td>\n    </tr>\n  </tbody>\n</table>\n<p>318879 rows × 20 columns</p>\n</div>"
     },
     "metadata": {},
     "execution_count": 10
    }
   ],
   "source": [
    "df_dummies = pd.get_dummies(df, columns=['Outcome1'])\n",
    "df_dummies"
   ]
  },
  {
   "cell_type": "code",
   "execution_count": 11,
   "metadata": {},
   "outputs": [
    {
     "output_type": "execute_result",
     "data": {
      "text/plain": [
       "                                                                          Outcome1_Fatal  \\\n",
       "Accurate_Episode_Date Reporting_PHU                                                        \n",
       "2020-03-10            Middlesex-London Health Unit                                   0.0   \n",
       "                      Niagara Region Public Health Department                        1.0   \n",
       "                      Ottawa Public Health                                           0.0   \n",
       "                      Peel Public Health                                             0.0   \n",
       "                      Peterborough Public Health                                     0.0   \n",
       "                      Region of Waterloo, Public Health                              0.0   \n",
       "                      Renfrew County and District Health Unit                        0.0   \n",
       "                      Simcoe Muskoka District Health Unit                            0.0   \n",
       "                      Southwestern Public Health                                     0.0   \n",
       "                      Toronto Public Health                                          0.0   \n",
       "                      Windsor-Essex County Health Unit                               0.0   \n",
       "                      York Region Public Health Services                             0.0   \n",
       "2020-03-11            Brant County Health Unit                                       0.0   \n",
       "                      Durham Region Health Department                                0.0   \n",
       "                      Eastern Ontario Health Unit                                    0.0   \n",
       "                      Haldimand-Norfolk Health Unit                                  0.0   \n",
       "                      Haliburton, Kawartha, Pine Ridge District Healt...             0.0   \n",
       "                      Halton Region Health Department                                0.0   \n",
       "                      Hamilton Public Health Services                                0.0   \n",
       "                      Hastings and Prince Edward Counties Health Unit                0.0   \n",
       "                      Kingston, Frontenac and Lennox & Addington Publ...             0.0   \n",
       "                      Lambton Public Health                                          0.0   \n",
       "                      Leeds, Grenville and Lanark District Health Unit               0.0   \n",
       "                      Middlesex-London Health Unit                                   0.0   \n",
       "                      Niagara Region Public Health Department                        0.0   \n",
       "                      Ottawa Public Health                                           0.0   \n",
       "                      Peel Public Health                                             0.0   \n",
       "                      Region of Waterloo, Public Health                              0.0   \n",
       "                      Simcoe Muskoka District Health Unit                            1.0   \n",
       "                      Sudbury & District Health Unit                                 0.0   \n",
       "                      Toronto Public Health                                          1.0   \n",
       "                      Wellington-Dufferin-Guelph Public Health                       0.0   \n",
       "                      York Region Public Health Services                             0.0   \n",
       "2020-03-12            Brant County Health Unit                                       0.0   \n",
       "                      Durham Region Health Department                                0.0   \n",
       "                      Haldimand-Norfolk Health Unit                                  0.0   \n",
       "                      Haliburton, Kawartha, Pine Ridge District Healt...             0.0   \n",
       "                      Halton Region Health Department                                0.0   \n",
       "                      Hamilton Public Health Services                                0.0   \n",
       "                      Hastings and Prince Edward Counties Health Unit                0.0   \n",
       "                      Kingston, Frontenac and Lennox & Addington Publ...             0.0   \n",
       "                      Lambton Public Health                                          0.0   \n",
       "                      Middlesex-London Health Unit                                   0.0   \n",
       "                      Niagara Region Public Health Department                        0.0   \n",
       "                      Northwestern Health Unit                                       0.0   \n",
       "                      Ottawa Public Health                                           0.0   \n",
       "                      Peel Public Health                                             0.0   \n",
       "                      Porcupine Health Unit                                          0.0   \n",
       "                      Region of Waterloo, Public Health                              0.0   \n",
       "                      Simcoe Muskoka District Health Unit                            0.0   \n",
       "\n",
       "                                                                          Outcome1_Not Resolved  \\\n",
       "Accurate_Episode_Date Reporting_PHU                                                               \n",
       "2020-03-10            Middlesex-London Health Unit                                          0.0   \n",
       "                      Niagara Region Public Health Department                               0.0   \n",
       "                      Ottawa Public Health                                                  0.0   \n",
       "                      Peel Public Health                                                    0.0   \n",
       "                      Peterborough Public Health                                            0.0   \n",
       "                      Region of Waterloo, Public Health                                     0.0   \n",
       "                      Renfrew County and District Health Unit                               0.0   \n",
       "                      Simcoe Muskoka District Health Unit                                   0.0   \n",
       "                      Southwestern Public Health                                            0.0   \n",
       "                      Toronto Public Health                                                 0.0   \n",
       "                      Windsor-Essex County Health Unit                                      0.0   \n",
       "                      York Region Public Health Services                                    0.0   \n",
       "2020-03-11            Brant County Health Unit                                              0.0   \n",
       "                      Durham Region Health Department                                       0.0   \n",
       "                      Eastern Ontario Health Unit                                           0.0   \n",
       "                      Haldimand-Norfolk Health Unit                                         0.0   \n",
       "                      Haliburton, Kawartha, Pine Ridge District Healt...                    0.0   \n",
       "                      Halton Region Health Department                                       0.0   \n",
       "                      Hamilton Public Health Services                                       0.0   \n",
       "                      Hastings and Prince Edward Counties Health Unit                       0.0   \n",
       "                      Kingston, Frontenac and Lennox & Addington Publ...                    0.0   \n",
       "                      Lambton Public Health                                                 0.0   \n",
       "                      Leeds, Grenville and Lanark District Health Unit                      0.0   \n",
       "                      Middlesex-London Health Unit                                          0.0   \n",
       "                      Niagara Region Public Health Department                               0.0   \n",
       "                      Ottawa Public Health                                                  0.0   \n",
       "                      Peel Public Health                                                    0.0   \n",
       "                      Region of Waterloo, Public Health                                     0.0   \n",
       "                      Simcoe Muskoka District Health Unit                                   0.0   \n",
       "                      Sudbury & District Health Unit                                        0.0   \n",
       "                      Toronto Public Health                                                 0.0   \n",
       "                      Wellington-Dufferin-Guelph Public Health                              0.0   \n",
       "                      York Region Public Health Services                                    0.0   \n",
       "2020-03-12            Brant County Health Unit                                              0.0   \n",
       "                      Durham Region Health Department                                       0.0   \n",
       "                      Haldimand-Norfolk Health Unit                                         0.0   \n",
       "                      Haliburton, Kawartha, Pine Ridge District Healt...                    0.0   \n",
       "                      Halton Region Health Department                                       0.0   \n",
       "                      Hamilton Public Health Services                                       0.0   \n",
       "                      Hastings and Prince Edward Counties Health Unit                       0.0   \n",
       "                      Kingston, Frontenac and Lennox & Addington Publ...                    0.0   \n",
       "                      Lambton Public Health                                                 0.0   \n",
       "                      Middlesex-London Health Unit                                          0.0   \n",
       "                      Niagara Region Public Health Department                               0.0   \n",
       "                      Northwestern Health Unit                                              0.0   \n",
       "                      Ottawa Public Health                                                  0.0   \n",
       "                      Peel Public Health                                                    0.0   \n",
       "                      Porcupine Health Unit                                                 0.0   \n",
       "                      Region of Waterloo, Public Health                                     0.0   \n",
       "                      Simcoe Muskoka District Health Unit                                   0.0   \n",
       "\n",
       "                                                                          Outcome1_Resolved  \n",
       "Accurate_Episode_Date Reporting_PHU                                                          \n",
       "2020-03-10            Middlesex-London Health Unit                                      1.0  \n",
       "                      Niagara Region Public Health Department                           0.0  \n",
       "                      Ottawa Public Health                                              7.0  \n",
       "                      Peel Public Health                                                9.0  \n",
       "                      Peterborough Public Health                                        1.0  \n",
       "                      Region of Waterloo, Public Health                                 2.0  \n",
       "                      Renfrew County and District Health Unit                           1.0  \n",
       "                      Simcoe Muskoka District Health Unit                               3.0  \n",
       "                      Southwestern Public Health                                        2.0  \n",
       "                      Toronto Public Health                                            27.0  \n",
       "                      Windsor-Essex County Health Unit                                  2.0  \n",
       "                      York Region Public Health Services                                7.0  \n",
       "2020-03-11            Brant County Health Unit                                          1.0  \n",
       "                      Durham Region Health Department                                   7.0  \n",
       "                      Eastern Ontario Health Unit                                       1.0  \n",
       "                      Haldimand-Norfolk Health Unit                                     2.0  \n",
       "                      Haliburton, Kawartha, Pine Ridge District Healt...                3.0  \n",
       "                      Halton Region Health Department                                   6.0  \n",
       "                      Hamilton Public Health Services                                   3.0  \n",
       "                      Hastings and Prince Edward Counties Health Unit                   1.0  \n",
       "                      Kingston, Frontenac and Lennox & Addington Publ...                2.0  \n",
       "                      Lambton Public Health                                             1.0  \n",
       "                      Leeds, Grenville and Lanark District Health Unit                  1.0  \n",
       "                      Middlesex-London Health Unit                                      3.0  \n",
       "                      Niagara Region Public Health Department                           6.0  \n",
       "                      Ottawa Public Health                                              9.0  \n",
       "                      Peel Public Health                                                9.0  \n",
       "                      Region of Waterloo, Public Health                                 6.0  \n",
       "                      Simcoe Muskoka District Health Unit                               0.0  \n",
       "                      Sudbury & District Health Unit                                    1.0  \n",
       "                      Toronto Public Health                                            26.0  \n",
       "                      Wellington-Dufferin-Guelph Public Health                          3.0  \n",
       "                      York Region Public Health Services                               10.0  \n",
       "2020-03-12            Brant County Health Unit                                          1.0  \n",
       "                      Durham Region Health Department                                   6.0  \n",
       "                      Haldimand-Norfolk Health Unit                                     1.0  \n",
       "                      Haliburton, Kawartha, Pine Ridge District Healt...                3.0  \n",
       "                      Halton Region Health Department                                   8.0  \n",
       "                      Hamilton Public Health Services                                   4.0  \n",
       "                      Hastings and Prince Edward Counties Health Unit                   1.0  \n",
       "                      Kingston, Frontenac and Lennox & Addington Publ...                2.0  \n",
       "                      Lambton Public Health                                             1.0  \n",
       "                      Middlesex-London Health Unit                                      1.0  \n",
       "                      Niagara Region Public Health Department                           4.0  \n",
       "                      Northwestern Health Unit                                          1.0  \n",
       "                      Ottawa Public Health                                             14.0  \n",
       "                      Peel Public Health                                               18.0  \n",
       "                      Porcupine Health Unit                                             2.0  \n",
       "                      Region of Waterloo, Public Health                                 4.0  \n",
       "                      Simcoe Muskoka District Health Unit                               1.0  "
      ],
      "text/html": "<div>\n<style scoped>\n    .dataframe tbody tr th:only-of-type {\n        vertical-align: middle;\n    }\n\n    .dataframe tbody tr th {\n        vertical-align: top;\n    }\n\n    .dataframe thead th {\n        text-align: right;\n    }\n</style>\n<table border=\"1\" class=\"dataframe\">\n  <thead>\n    <tr style=\"text-align: right;\">\n      <th></th>\n      <th></th>\n      <th>Outcome1_Fatal</th>\n      <th>Outcome1_Not Resolved</th>\n      <th>Outcome1_Resolved</th>\n    </tr>\n    <tr>\n      <th>Accurate_Episode_Date</th>\n      <th>Reporting_PHU</th>\n      <th></th>\n      <th></th>\n      <th></th>\n    </tr>\n  </thead>\n  <tbody>\n    <tr>\n      <th rowspan=\"12\" valign=\"top\">2020-03-10</th>\n      <th>Middlesex-London Health Unit</th>\n      <td>0.0</td>\n      <td>0.0</td>\n      <td>1.0</td>\n    </tr>\n    <tr>\n      <th>Niagara Region Public Health Department</th>\n      <td>1.0</td>\n      <td>0.0</td>\n      <td>0.0</td>\n    </tr>\n    <tr>\n      <th>Ottawa Public Health</th>\n      <td>0.0</td>\n      <td>0.0</td>\n      <td>7.0</td>\n    </tr>\n    <tr>\n      <th>Peel Public Health</th>\n      <td>0.0</td>\n      <td>0.0</td>\n      <td>9.0</td>\n    </tr>\n    <tr>\n      <th>Peterborough Public Health</th>\n      <td>0.0</td>\n      <td>0.0</td>\n      <td>1.0</td>\n    </tr>\n    <tr>\n      <th>Region of Waterloo, Public Health</th>\n      <td>0.0</td>\n      <td>0.0</td>\n      <td>2.0</td>\n    </tr>\n    <tr>\n      <th>Renfrew County and District Health Unit</th>\n      <td>0.0</td>\n      <td>0.0</td>\n      <td>1.0</td>\n    </tr>\n    <tr>\n      <th>Simcoe Muskoka District Health Unit</th>\n      <td>0.0</td>\n      <td>0.0</td>\n      <td>3.0</td>\n    </tr>\n    <tr>\n      <th>Southwestern Public Health</th>\n      <td>0.0</td>\n      <td>0.0</td>\n      <td>2.0</td>\n    </tr>\n    <tr>\n      <th>Toronto Public Health</th>\n      <td>0.0</td>\n      <td>0.0</td>\n      <td>27.0</td>\n    </tr>\n    <tr>\n      <th>Windsor-Essex County Health Unit</th>\n      <td>0.0</td>\n      <td>0.0</td>\n      <td>2.0</td>\n    </tr>\n    <tr>\n      <th>York Region Public Health Services</th>\n      <td>0.0</td>\n      <td>0.0</td>\n      <td>7.0</td>\n    </tr>\n    <tr>\n      <th rowspan=\"21\" valign=\"top\">2020-03-11</th>\n      <th>Brant County Health Unit</th>\n      <td>0.0</td>\n      <td>0.0</td>\n      <td>1.0</td>\n    </tr>\n    <tr>\n      <th>Durham Region Health Department</th>\n      <td>0.0</td>\n      <td>0.0</td>\n      <td>7.0</td>\n    </tr>\n    <tr>\n      <th>Eastern Ontario Health Unit</th>\n      <td>0.0</td>\n      <td>0.0</td>\n      <td>1.0</td>\n    </tr>\n    <tr>\n      <th>Haldimand-Norfolk Health Unit</th>\n      <td>0.0</td>\n      <td>0.0</td>\n      <td>2.0</td>\n    </tr>\n    <tr>\n      <th>Haliburton, Kawartha, Pine Ridge District Health Unit</th>\n      <td>0.0</td>\n      <td>0.0</td>\n      <td>3.0</td>\n    </tr>\n    <tr>\n      <th>Halton Region Health Department</th>\n      <td>0.0</td>\n      <td>0.0</td>\n      <td>6.0</td>\n    </tr>\n    <tr>\n      <th>Hamilton Public Health Services</th>\n      <td>0.0</td>\n      <td>0.0</td>\n      <td>3.0</td>\n    </tr>\n    <tr>\n      <th>Hastings and Prince Edward Counties Health Unit</th>\n      <td>0.0</td>\n      <td>0.0</td>\n      <td>1.0</td>\n    </tr>\n    <tr>\n      <th>Kingston, Frontenac and Lennox &amp; Addington Public Health</th>\n      <td>0.0</td>\n      <td>0.0</td>\n      <td>2.0</td>\n    </tr>\n    <tr>\n      <th>Lambton Public Health</th>\n      <td>0.0</td>\n      <td>0.0</td>\n      <td>1.0</td>\n    </tr>\n    <tr>\n      <th>Leeds, Grenville and Lanark District Health Unit</th>\n      <td>0.0</td>\n      <td>0.0</td>\n      <td>1.0</td>\n    </tr>\n    <tr>\n      <th>Middlesex-London Health Unit</th>\n      <td>0.0</td>\n      <td>0.0</td>\n      <td>3.0</td>\n    </tr>\n    <tr>\n      <th>Niagara Region Public Health Department</th>\n      <td>0.0</td>\n      <td>0.0</td>\n      <td>6.0</td>\n    </tr>\n    <tr>\n      <th>Ottawa Public Health</th>\n      <td>0.0</td>\n      <td>0.0</td>\n      <td>9.0</td>\n    </tr>\n    <tr>\n      <th>Peel Public Health</th>\n      <td>0.0</td>\n      <td>0.0</td>\n      <td>9.0</td>\n    </tr>\n    <tr>\n      <th>Region of Waterloo, Public Health</th>\n      <td>0.0</td>\n      <td>0.0</td>\n      <td>6.0</td>\n    </tr>\n    <tr>\n      <th>Simcoe Muskoka District Health Unit</th>\n      <td>1.0</td>\n      <td>0.0</td>\n      <td>0.0</td>\n    </tr>\n    <tr>\n      <th>Sudbury &amp; District Health Unit</th>\n      <td>0.0</td>\n      <td>0.0</td>\n      <td>1.0</td>\n    </tr>\n    <tr>\n      <th>Toronto Public Health</th>\n      <td>1.0</td>\n      <td>0.0</td>\n      <td>26.0</td>\n    </tr>\n    <tr>\n      <th>Wellington-Dufferin-Guelph Public Health</th>\n      <td>0.0</td>\n      <td>0.0</td>\n      <td>3.0</td>\n    </tr>\n    <tr>\n      <th>York Region Public Health Services</th>\n      <td>0.0</td>\n      <td>0.0</td>\n      <td>10.0</td>\n    </tr>\n    <tr>\n      <th rowspan=\"17\" valign=\"top\">2020-03-12</th>\n      <th>Brant County Health Unit</th>\n      <td>0.0</td>\n      <td>0.0</td>\n      <td>1.0</td>\n    </tr>\n    <tr>\n      <th>Durham Region Health Department</th>\n      <td>0.0</td>\n      <td>0.0</td>\n      <td>6.0</td>\n    </tr>\n    <tr>\n      <th>Haldimand-Norfolk Health Unit</th>\n      <td>0.0</td>\n      <td>0.0</td>\n      <td>1.0</td>\n    </tr>\n    <tr>\n      <th>Haliburton, Kawartha, Pine Ridge District Health Unit</th>\n      <td>0.0</td>\n      <td>0.0</td>\n      <td>3.0</td>\n    </tr>\n    <tr>\n      <th>Halton Region Health Department</th>\n      <td>0.0</td>\n      <td>0.0</td>\n      <td>8.0</td>\n    </tr>\n    <tr>\n      <th>Hamilton Public Health Services</th>\n      <td>0.0</td>\n      <td>0.0</td>\n      <td>4.0</td>\n    </tr>\n    <tr>\n      <th>Hastings and Prince Edward Counties Health Unit</th>\n      <td>0.0</td>\n      <td>0.0</td>\n      <td>1.0</td>\n    </tr>\n    <tr>\n      <th>Kingston, Frontenac and Lennox &amp; Addington Public Health</th>\n      <td>0.0</td>\n      <td>0.0</td>\n      <td>2.0</td>\n    </tr>\n    <tr>\n      <th>Lambton Public Health</th>\n      <td>0.0</td>\n      <td>0.0</td>\n      <td>1.0</td>\n    </tr>\n    <tr>\n      <th>Middlesex-London Health Unit</th>\n      <td>0.0</td>\n      <td>0.0</td>\n      <td>1.0</td>\n    </tr>\n    <tr>\n      <th>Niagara Region Public Health Department</th>\n      <td>0.0</td>\n      <td>0.0</td>\n      <td>4.0</td>\n    </tr>\n    <tr>\n      <th>Northwestern Health Unit</th>\n      <td>0.0</td>\n      <td>0.0</td>\n      <td>1.0</td>\n    </tr>\n    <tr>\n      <th>Ottawa Public Health</th>\n      <td>0.0</td>\n      <td>0.0</td>\n      <td>14.0</td>\n    </tr>\n    <tr>\n      <th>Peel Public Health</th>\n      <td>0.0</td>\n      <td>0.0</td>\n      <td>18.0</td>\n    </tr>\n    <tr>\n      <th>Porcupine Health Unit</th>\n      <td>0.0</td>\n      <td>0.0</td>\n      <td>2.0</td>\n    </tr>\n    <tr>\n      <th>Region of Waterloo, Public Health</th>\n      <td>0.0</td>\n      <td>0.0</td>\n      <td>4.0</td>\n    </tr>\n    <tr>\n      <th>Simcoe Muskoka District Health Unit</th>\n      <td>0.0</td>\n      <td>0.0</td>\n      <td>1.0</td>\n    </tr>\n  </tbody>\n</table>\n</div>"
     },
     "metadata": {},
     "execution_count": 11
    }
   ],
   "source": [
    "ncases = df_dummies.groupby(['Accurate_Episode_Date', 'Reporting_PHU'])[['Outcome1_Fatal', 'Outcome1_Not Resolved','Outcome1_Resolved']].sum()\n",
    "ncases[170:220]"
   ]
  },
  {
   "cell_type": "code",
   "execution_count": 12,
   "metadata": {},
   "outputs": [
    {
     "output_type": "execute_result",
     "data": {
      "text/plain": [
       "                                                           Outcome1_Fatal  \\\n",
       "Accurate_Episode_Date Reporting_PHU                                         \n",
       "2020-01-01            Haldimand-Norfolk Health Unit                   0.0   \n",
       "                      Region of Waterloo, Public Health               0.0   \n",
       "                      Windsor-Essex County Health Unit                0.0   \n",
       "2020-01-05            Toronto Public Health                           0.0   \n",
       "2020-01-09            York Region Public Health Services              0.0   \n",
       "...                                                                   ...   \n",
       "2021-03-20            York Region Public Health Services              0.0   \n",
       "2021-03-21            Peel Public Health                              0.0   \n",
       "                      Simcoe Muskoka District Health Unit             0.0   \n",
       "                      Thunder Bay District Health Unit                0.0   \n",
       "                      Toronto Public Health                           0.0   \n",
       "\n",
       "                                                           Outcome1_Not Resolved  \\\n",
       "Accurate_Episode_Date Reporting_PHU                                                \n",
       "2020-01-01            Haldimand-Norfolk Health Unit                          0.0   \n",
       "                      Region of Waterloo, Public Health                      0.0   \n",
       "                      Windsor-Essex County Health Unit                       0.0   \n",
       "2020-01-05            Toronto Public Health                                  0.0   \n",
       "2020-01-09            York Region Public Health Services                     0.0   \n",
       "...                                                                          ...   \n",
       "2021-03-20            York Region Public Health Services                    30.0   \n",
       "2021-03-21            Peel Public Health                                     2.0   \n",
       "                      Simcoe Muskoka District Health Unit                    1.0   \n",
       "                      Thunder Bay District Health Unit                       1.0   \n",
       "                      Toronto Public Health                                  1.0   \n",
       "\n",
       "                                                           Outcome1_Resolved  \n",
       "Accurate_Episode_Date Reporting_PHU                                           \n",
       "2020-01-01            Haldimand-Norfolk Health Unit                      1.0  \n",
       "                      Region of Waterloo, Public Health                  1.0  \n",
       "                      Windsor-Essex County Health Unit                   1.0  \n",
       "2020-01-05            Toronto Public Health                              1.0  \n",
       "2020-01-09            York Region Public Health Services                 1.0  \n",
       "...                                                                      ...  \n",
       "2021-03-20            York Region Public Health Services                 0.0  \n",
       "2021-03-21            Peel Public Health                                 0.0  \n",
       "                      Simcoe Muskoka District Health Unit                0.0  \n",
       "                      Thunder Bay District Health Unit                   0.0  \n",
       "                      Toronto Public Health                              0.0  \n",
       "\n",
       "[9250 rows x 3 columns]"
      ],
      "text/html": "<div>\n<style scoped>\n    .dataframe tbody tr th:only-of-type {\n        vertical-align: middle;\n    }\n\n    .dataframe tbody tr th {\n        vertical-align: top;\n    }\n\n    .dataframe thead th {\n        text-align: right;\n    }\n</style>\n<table border=\"1\" class=\"dataframe\">\n  <thead>\n    <tr style=\"text-align: right;\">\n      <th></th>\n      <th></th>\n      <th>Outcome1_Fatal</th>\n      <th>Outcome1_Not Resolved</th>\n      <th>Outcome1_Resolved</th>\n    </tr>\n    <tr>\n      <th>Accurate_Episode_Date</th>\n      <th>Reporting_PHU</th>\n      <th></th>\n      <th></th>\n      <th></th>\n    </tr>\n  </thead>\n  <tbody>\n    <tr>\n      <th rowspan=\"3\" valign=\"top\">2020-01-01</th>\n      <th>Haldimand-Norfolk Health Unit</th>\n      <td>0.0</td>\n      <td>0.0</td>\n      <td>1.0</td>\n    </tr>\n    <tr>\n      <th>Region of Waterloo, Public Health</th>\n      <td>0.0</td>\n      <td>0.0</td>\n      <td>1.0</td>\n    </tr>\n    <tr>\n      <th>Windsor-Essex County Health Unit</th>\n      <td>0.0</td>\n      <td>0.0</td>\n      <td>1.0</td>\n    </tr>\n    <tr>\n      <th>2020-01-05</th>\n      <th>Toronto Public Health</th>\n      <td>0.0</td>\n      <td>0.0</td>\n      <td>1.0</td>\n    </tr>\n    <tr>\n      <th>2020-01-09</th>\n      <th>York Region Public Health Services</th>\n      <td>0.0</td>\n      <td>0.0</td>\n      <td>1.0</td>\n    </tr>\n    <tr>\n      <th>...</th>\n      <th>...</th>\n      <td>...</td>\n      <td>...</td>\n      <td>...</td>\n    </tr>\n    <tr>\n      <th>2021-03-20</th>\n      <th>York Region Public Health Services</th>\n      <td>0.0</td>\n      <td>30.0</td>\n      <td>0.0</td>\n    </tr>\n    <tr>\n      <th rowspan=\"4\" valign=\"top\">2021-03-21</th>\n      <th>Peel Public Health</th>\n      <td>0.0</td>\n      <td>2.0</td>\n      <td>0.0</td>\n    </tr>\n    <tr>\n      <th>Simcoe Muskoka District Health Unit</th>\n      <td>0.0</td>\n      <td>1.0</td>\n      <td>0.0</td>\n    </tr>\n    <tr>\n      <th>Thunder Bay District Health Unit</th>\n      <td>0.0</td>\n      <td>1.0</td>\n      <td>0.0</td>\n    </tr>\n    <tr>\n      <th>Toronto Public Health</th>\n      <td>0.0</td>\n      <td>1.0</td>\n      <td>0.0</td>\n    </tr>\n  </tbody>\n</table>\n<p>9250 rows × 3 columns</p>\n</div>"
     },
     "metadata": {},
     "execution_count": 12
    }
   ],
   "source": [
    "#ncases = pd.DataFrame(ncases)\n",
    "ncases"
   ]
  }
 ],
 "metadata": {
  "kernelspec": {
   "name": "python388jvsc74a57bd0157aa70ce33942cff64fec79abecbba2726f68bc319a5c10c2ae6cf12d23671a",
   "display_name": "Python 3.8.8 64-bit ('DataScience': conda)"
  },
  "language_info": {
   "codemirror_mode": {
    "name": "ipython",
    "version": 3
   },
   "file_extension": ".py",
   "mimetype": "text/x-python",
   "name": "python",
   "nbconvert_exporter": "python",
   "pygments_lexer": "ipython3",
   "version": "3.8.8"
  },
  "metadata": {
   "interpreter": {
    "hash": "31f2aee4e71d21fbe5cf8b01ff0e069b9275f58929596ceb00d14d90e3e16cd6"
   }
  }
 },
 "nbformat": 4,
 "nbformat_minor": 4
}